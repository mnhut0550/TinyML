{
 "cells": [
  {
   "cell_type": "markdown",
   "metadata": {},
   "source": [
    "# Human detection on __Micro Controllers__"
   ]
  },
  {
   "cell_type": "markdown",
   "metadata": {},
   "source": [
    "## This file is using for Human detection.\n",
    "### Datasets: https://www.kaggle.com/datasets/constantinwerner/human-detection-dataset -- Authors: KONSTANTIN VERNER"
   ]
  },
  {
   "cell_type": "markdown",
   "metadata": {},
   "source": [
    "$$ $$\n",
    "$$ File's  Author: NhutNM $$\n",
    "$$ File's  Author-email: nhut0550.1109@gmail.com $$\n",
    "$$ File's  Author-github: github.com/mnhut0550 $$\n",
    "$$ $$"
   ]
  },
  {
   "cell_type": "markdown",
   "metadata": {},
   "source": [
    "##### *This file is use Sparse_Categorical_Crossentropy as loss function.\n",
    "##### *FULL QUANT edition."
   ]
  },
  {
   "cell_type": "markdown",
   "metadata": {},
   "source": [
    "## import library"
   ]
  },
  {
   "cell_type": "code",
   "execution_count": 1,
   "metadata": {},
   "outputs": [],
   "source": [
    "import tensorflow as tf\n",
    "\n",
    "import numpy as np\n",
    "import tempfile\n",
    "import zipfile\n",
    "import os"
   ]
  },
  {
   "cell_type": "markdown",
   "metadata": {},
   "source": [
    "## Create class representative_dataset for converter"
   ]
  },
  {
   "cell_type": "code",
   "execution_count": 2,
   "metadata": {},
   "outputs": [],
   "source": [
    "class representive_dataset:\n",
    "    def __init__(self, img_list:list, batch_size=64, dtype=tf.int8):\n",
    "        self.data = np.array(img_list)\n",
    "        self.batch = batch_size\n",
    "        self.dtype = dtype\n",
    "        self.img = tf.data.Dataset.from_tensor_slices(self.data).batch(1)\n",
    "\n",
    "    def __call__(self):\n",
    "        for data in self.img.take(self.batch):\n",
    "            yield [data]"
   ]
  },
  {
   "cell_type": "markdown",
   "metadata": {},
   "source": [
    "## select base model and model's input_size"
   ]
  },
  {
   "cell_type": "code",
   "execution_count": 3,
   "metadata": {},
   "outputs": [
    {
     "name": "stdout",
     "output_type": "stream",
     "text": [
      "WARNING:tensorflow:`input_shape` is undefined or non-square, or `rows` is not in [128, 160, 192, 224]. Weights for input shape (224, 224) will be loaded as the default.\n"
     ]
    }
   ],
   "source": [
    "from tensorflow.keras.applications.mobilenet import MobileNet\n",
    "from tensorflow.keras.applications.mobilenet import preprocess_input\n",
    "\n",
    "baseModel = MobileNet(input_shape=(96,96,3), alpha = 0.25, include_top=False, weights='imagenet')"
   ]
  },
  {
   "cell_type": "markdown",
   "metadata": {},
   "source": [
    "## load data"
   ]
  },
  {
   "cell_type": "code",
   "execution_count": 4,
   "metadata": {},
   "outputs": [],
   "source": [
    "from tensorflow.keras.preprocessing.image import img_to_array,load_img\n",
    "from imutils import paths\n",
    "\n",
    "imagePath = list(paths.list_files('../data/'))\n",
    "data = []\n",
    "labels = []"
   ]
  },
  {
   "cell_type": "code",
   "execution_count": 5,
   "metadata": {},
   "outputs": [],
   "source": [
    "for image in imagePath:\n",
    "    label = int(image.split(os.path.sep)[-2].split('/')[-1])\n",
    "     \n",
    "    img = load_img(image,target_size = (96,96))\n",
    "    img = img_to_array(img)\n",
    "    img = preprocess_input(img)\n",
    "    img.astype(np.float32)\n",
    "     \n",
    "    data.append(img)\n",
    "    labels.append(label)"
   ]
  },
  {
   "cell_type": "markdown",
   "metadata": {},
   "source": [
    "## convert datatype"
   ]
  },
  {
   "cell_type": "code",
   "execution_count": 6,
   "metadata": {},
   "outputs": [],
   "source": [
    "data = np.array(data, dtype=np.float32)\n",
    "labels = np.array(labels)"
   ]
  },
  {
   "cell_type": "markdown",
   "metadata": {},
   "source": [
    "## split data"
   ]
  },
  {
   "cell_type": "code",
   "execution_count": 7,
   "metadata": {},
   "outputs": [],
   "source": [
    "from sklearn.model_selection import train_test_split\n",
    "\n",
    "(trainX, valX, trainY, valY) = train_test_split(data, labels,test_size=0.2, stratify=labels, random_state=42)\n",
    "testX = valX\n",
    "testY = valY"
   ]
  },
  {
   "cell_type": "markdown",
   "metadata": {},
   "source": [
    "## create model"
   ]
  },
  {
   "cell_type": "markdown",
   "metadata": {},
   "source": [
    "### import layer module & model wrapper module"
   ]
  },
  {
   "cell_type": "code",
   "execution_count": 8,
   "metadata": {},
   "outputs": [],
   "source": [
    "from tensorflow.keras.layers import *\n",
    "from tensorflow.keras.models import Model"
   ]
  },
  {
   "cell_type": "markdown",
   "metadata": {},
   "source": [
    "### create new model base on base_model"
   ]
  },
  {
   "cell_type": "code",
   "execution_count": 9,
   "metadata": {},
   "outputs": [],
   "source": [
    "inp = baseModel.input\n",
    "\n",
    "x = baseModel.output\n",
    "x = Dropout(0.1)(x)\n",
    "x = AveragePooling2D()(x)\n",
    "x = Conv2D(2,use_bias= False, kernel_size=x.get_shape().as_list()[1], activation='relu')(x)\n",
    "x = Flatten()(x)\n",
    "x = Dense(2)(x)\n",
    "\n",
    "out = x"
   ]
  },
  {
   "cell_type": "code",
   "execution_count": 10,
   "metadata": {},
   "outputs": [],
   "source": [
    "model = Model(inputs=inp, outputs= out)"
   ]
  },
  {
   "cell_type": "code",
   "execution_count": 11,
   "metadata": {},
   "outputs": [
    {
     "name": "stdout",
     "output_type": "stream",
     "text": [
      "Model: \"model\"\n",
      "_________________________________________________________________\n",
      "Layer (type)                 Output Shape              Param #   \n",
      "=================================================================\n",
      "input_1 (InputLayer)         [(None, 96, 96, 3)]       0         \n",
      "_________________________________________________________________\n",
      "conv1 (Conv2D)               (None, 48, 48, 8)         216       \n",
      "_________________________________________________________________\n",
      "conv1_bn (BatchNormalization (None, 48, 48, 8)         32        \n",
      "_________________________________________________________________\n",
      "conv1_relu (ReLU)            (None, 48, 48, 8)         0         \n",
      "_________________________________________________________________\n",
      "conv_dw_1 (DepthwiseConv2D)  (None, 48, 48, 8)         72        \n",
      "_________________________________________________________________\n",
      "conv_dw_1_bn (BatchNormaliza (None, 48, 48, 8)         32        \n",
      "_________________________________________________________________\n",
      "conv_dw_1_relu (ReLU)        (None, 48, 48, 8)         0         \n",
      "_________________________________________________________________\n",
      "conv_pw_1 (Conv2D)           (None, 48, 48, 16)        128       \n",
      "_________________________________________________________________\n",
      "conv_pw_1_bn (BatchNormaliza (None, 48, 48, 16)        64        \n",
      "_________________________________________________________________\n",
      "conv_pw_1_relu (ReLU)        (None, 48, 48, 16)        0         \n",
      "_________________________________________________________________\n",
      "conv_pad_2 (ZeroPadding2D)   (None, 49, 49, 16)        0         \n",
      "_________________________________________________________________\n",
      "conv_dw_2 (DepthwiseConv2D)  (None, 24, 24, 16)        144       \n",
      "_________________________________________________________________\n",
      "conv_dw_2_bn (BatchNormaliza (None, 24, 24, 16)        64        \n",
      "_________________________________________________________________\n",
      "conv_dw_2_relu (ReLU)        (None, 24, 24, 16)        0         \n",
      "_________________________________________________________________\n",
      "conv_pw_2 (Conv2D)           (None, 24, 24, 32)        512       \n",
      "_________________________________________________________________\n",
      "conv_pw_2_bn (BatchNormaliza (None, 24, 24, 32)        128       \n",
      "_________________________________________________________________\n",
      "conv_pw_2_relu (ReLU)        (None, 24, 24, 32)        0         \n",
      "_________________________________________________________________\n",
      "conv_dw_3 (DepthwiseConv2D)  (None, 24, 24, 32)        288       \n",
      "_________________________________________________________________\n",
      "conv_dw_3_bn (BatchNormaliza (None, 24, 24, 32)        128       \n",
      "_________________________________________________________________\n",
      "conv_dw_3_relu (ReLU)        (None, 24, 24, 32)        0         \n",
      "_________________________________________________________________\n",
      "conv_pw_3 (Conv2D)           (None, 24, 24, 32)        1024      \n",
      "_________________________________________________________________\n",
      "conv_pw_3_bn (BatchNormaliza (None, 24, 24, 32)        128       \n",
      "_________________________________________________________________\n",
      "conv_pw_3_relu (ReLU)        (None, 24, 24, 32)        0         \n",
      "_________________________________________________________________\n",
      "conv_pad_4 (ZeroPadding2D)   (None, 25, 25, 32)        0         \n",
      "_________________________________________________________________\n",
      "conv_dw_4 (DepthwiseConv2D)  (None, 12, 12, 32)        288       \n",
      "_________________________________________________________________\n",
      "conv_dw_4_bn (BatchNormaliza (None, 12, 12, 32)        128       \n",
      "_________________________________________________________________\n",
      "conv_dw_4_relu (ReLU)        (None, 12, 12, 32)        0         \n",
      "_________________________________________________________________\n",
      "conv_pw_4 (Conv2D)           (None, 12, 12, 64)        2048      \n",
      "_________________________________________________________________\n",
      "conv_pw_4_bn (BatchNormaliza (None, 12, 12, 64)        256       \n",
      "_________________________________________________________________\n",
      "conv_pw_4_relu (ReLU)        (None, 12, 12, 64)        0         \n",
      "_________________________________________________________________\n",
      "conv_dw_5 (DepthwiseConv2D)  (None, 12, 12, 64)        576       \n",
      "_________________________________________________________________\n",
      "conv_dw_5_bn (BatchNormaliza (None, 12, 12, 64)        256       \n",
      "_________________________________________________________________\n",
      "conv_dw_5_relu (ReLU)        (None, 12, 12, 64)        0         \n",
      "_________________________________________________________________\n",
      "conv_pw_5 (Conv2D)           (None, 12, 12, 64)        4096      \n",
      "_________________________________________________________________\n",
      "conv_pw_5_bn (BatchNormaliza (None, 12, 12, 64)        256       \n",
      "_________________________________________________________________\n",
      "conv_pw_5_relu (ReLU)        (None, 12, 12, 64)        0         \n",
      "_________________________________________________________________\n",
      "conv_pad_6 (ZeroPadding2D)   (None, 13, 13, 64)        0         \n",
      "_________________________________________________________________\n",
      "conv_dw_6 (DepthwiseConv2D)  (None, 6, 6, 64)          576       \n",
      "_________________________________________________________________\n",
      "conv_dw_6_bn (BatchNormaliza (None, 6, 6, 64)          256       \n",
      "_________________________________________________________________\n",
      "conv_dw_6_relu (ReLU)        (None, 6, 6, 64)          0         \n",
      "_________________________________________________________________\n",
      "conv_pw_6 (Conv2D)           (None, 6, 6, 128)         8192      \n",
      "_________________________________________________________________\n",
      "conv_pw_6_bn (BatchNormaliza (None, 6, 6, 128)         512       \n",
      "_________________________________________________________________\n",
      "conv_pw_6_relu (ReLU)        (None, 6, 6, 128)         0         \n",
      "_________________________________________________________________\n",
      "conv_dw_7 (DepthwiseConv2D)  (None, 6, 6, 128)         1152      \n",
      "_________________________________________________________________\n",
      "conv_dw_7_bn (BatchNormaliza (None, 6, 6, 128)         512       \n",
      "_________________________________________________________________\n",
      "conv_dw_7_relu (ReLU)        (None, 6, 6, 128)         0         \n",
      "_________________________________________________________________\n",
      "conv_pw_7 (Conv2D)           (None, 6, 6, 128)         16384     \n",
      "_________________________________________________________________\n",
      "conv_pw_7_bn (BatchNormaliza (None, 6, 6, 128)         512       \n",
      "_________________________________________________________________\n",
      "conv_pw_7_relu (ReLU)        (None, 6, 6, 128)         0         \n",
      "_________________________________________________________________\n",
      "conv_dw_8 (DepthwiseConv2D)  (None, 6, 6, 128)         1152      \n",
      "_________________________________________________________________\n",
      "conv_dw_8_bn (BatchNormaliza (None, 6, 6, 128)         512       \n",
      "_________________________________________________________________\n",
      "conv_dw_8_relu (ReLU)        (None, 6, 6, 128)         0         \n",
      "_________________________________________________________________\n",
      "conv_pw_8 (Conv2D)           (None, 6, 6, 128)         16384     \n",
      "_________________________________________________________________\n",
      "conv_pw_8_bn (BatchNormaliza (None, 6, 6, 128)         512       \n",
      "_________________________________________________________________\n",
      "conv_pw_8_relu (ReLU)        (None, 6, 6, 128)         0         \n",
      "_________________________________________________________________\n",
      "conv_dw_9 (DepthwiseConv2D)  (None, 6, 6, 128)         1152      \n",
      "_________________________________________________________________\n",
      "conv_dw_9_bn (BatchNormaliza (None, 6, 6, 128)         512       \n",
      "_________________________________________________________________\n",
      "conv_dw_9_relu (ReLU)        (None, 6, 6, 128)         0         \n",
      "_________________________________________________________________\n",
      "conv_pw_9 (Conv2D)           (None, 6, 6, 128)         16384     \n",
      "_________________________________________________________________\n",
      "conv_pw_9_bn (BatchNormaliza (None, 6, 6, 128)         512       \n",
      "_________________________________________________________________\n",
      "conv_pw_9_relu (ReLU)        (None, 6, 6, 128)         0         \n",
      "_________________________________________________________________\n",
      "conv_dw_10 (DepthwiseConv2D) (None, 6, 6, 128)         1152      \n",
      "_________________________________________________________________\n",
      "conv_dw_10_bn (BatchNormaliz (None, 6, 6, 128)         512       \n",
      "_________________________________________________________________\n",
      "conv_dw_10_relu (ReLU)       (None, 6, 6, 128)         0         \n",
      "_________________________________________________________________\n",
      "conv_pw_10 (Conv2D)          (None, 6, 6, 128)         16384     \n",
      "_________________________________________________________________\n",
      "conv_pw_10_bn (BatchNormaliz (None, 6, 6, 128)         512       \n",
      "_________________________________________________________________\n",
      "conv_pw_10_relu (ReLU)       (None, 6, 6, 128)         0         \n",
      "_________________________________________________________________\n",
      "conv_dw_11 (DepthwiseConv2D) (None, 6, 6, 128)         1152      \n",
      "_________________________________________________________________\n",
      "conv_dw_11_bn (BatchNormaliz (None, 6, 6, 128)         512       \n",
      "_________________________________________________________________\n",
      "conv_dw_11_relu (ReLU)       (None, 6, 6, 128)         0         \n",
      "_________________________________________________________________\n",
      "conv_pw_11 (Conv2D)          (None, 6, 6, 128)         16384     \n",
      "_________________________________________________________________\n",
      "conv_pw_11_bn (BatchNormaliz (None, 6, 6, 128)         512       \n",
      "_________________________________________________________________\n",
      "conv_pw_11_relu (ReLU)       (None, 6, 6, 128)         0         \n",
      "_________________________________________________________________\n",
      "conv_pad_12 (ZeroPadding2D)  (None, 7, 7, 128)         0         \n",
      "_________________________________________________________________\n",
      "conv_dw_12 (DepthwiseConv2D) (None, 3, 3, 128)         1152      \n",
      "_________________________________________________________________\n",
      "conv_dw_12_bn (BatchNormaliz (None, 3, 3, 128)         512       \n",
      "_________________________________________________________________\n",
      "conv_dw_12_relu (ReLU)       (None, 3, 3, 128)         0         \n",
      "_________________________________________________________________\n",
      "conv_pw_12 (Conv2D)          (None, 3, 3, 256)         32768     \n",
      "_________________________________________________________________\n",
      "conv_pw_12_bn (BatchNormaliz (None, 3, 3, 256)         1024      \n",
      "_________________________________________________________________\n",
      "conv_pw_12_relu (ReLU)       (None, 3, 3, 256)         0         \n",
      "_________________________________________________________________\n",
      "conv_dw_13 (DepthwiseConv2D) (None, 3, 3, 256)         2304      \n",
      "_________________________________________________________________\n",
      "conv_dw_13_bn (BatchNormaliz (None, 3, 3, 256)         1024      \n",
      "_________________________________________________________________\n",
      "conv_dw_13_relu (ReLU)       (None, 3, 3, 256)         0         \n",
      "_________________________________________________________________\n",
      "conv_pw_13 (Conv2D)          (None, 3, 3, 256)         65536     \n",
      "_________________________________________________________________\n",
      "conv_pw_13_bn (BatchNormaliz (None, 3, 3, 256)         1024      \n",
      "_________________________________________________________________\n",
      "conv_pw_13_relu (ReLU)       (None, 3, 3, 256)         0         \n",
      "_________________________________________________________________\n",
      "dropout (Dropout)            (None, 3, 3, 256)         0         \n",
      "_________________________________________________________________\n",
      "average_pooling2d (AveragePo (None, 1, 1, 256)         0         \n",
      "_________________________________________________________________\n",
      "conv2d (Conv2D)              (None, 1, 1, 2)           512       \n",
      "_________________________________________________________________\n",
      "flatten (Flatten)            (None, 2)                 0         \n",
      "_________________________________________________________________\n",
      "dense (Dense)                (None, 2)                 6         \n",
      "=================================================================\n",
      "Total params: 219,062\n",
      "Trainable params: 213,590\n",
      "Non-trainable params: 5,472\n",
      "_________________________________________________________________\n"
     ]
    }
   ],
   "source": [
    "model.summary()"
   ]
  },
  {
   "cell_type": "markdown",
   "metadata": {},
   "source": [
    "## compile model"
   ]
  },
  {
   "cell_type": "code",
   "execution_count": 12,
   "metadata": {},
   "outputs": [],
   "source": [
    "from tensorflow.keras.optimizers import Adam, SGD \n",
    "from tensorflow.keras.losses import SparseCategoricalCrossentropy as CC\n",
    "\n",
    "opt = Adam(1e-4)\n",
    "model.compile(optimizer=opt, loss = CC(from_logits=True), metrics=['accuracy'])"
   ]
  },
  {
   "cell_type": "markdown",
   "metadata": {},
   "source": [
    "## training"
   ]
  },
  {
   "cell_type": "code",
   "execution_count": 13,
   "metadata": {},
   "outputs": [
    {
     "name": "stdout",
     "output_type": "stream",
     "text": [
      "Epoch 1/30\n",
      "23/23 [==============================] - 6s 113ms/step - loss: 0.6526 - accuracy: 0.5992 - val_loss: 0.6378 - val_accuracy: 0.5946\n",
      "Epoch 2/30\n",
      "23/23 [==============================] - 2s 75ms/step - loss: 0.5832 - accuracy: 0.6617 - val_loss: 0.5857 - val_accuracy: 0.6865\n",
      "Epoch 3/30\n",
      "23/23 [==============================] - 2s 75ms/step - loss: 0.5222 - accuracy: 0.7269 - val_loss: 0.5424 - val_accuracy: 0.7405\n",
      "Epoch 4/30\n",
      "23/23 [==============================] - 2s 73ms/step - loss: 0.4727 - accuracy: 0.7840 - val_loss: 0.5013 - val_accuracy: 0.7568\n",
      "Epoch 5/30\n",
      "23/23 [==============================] - 2s 72ms/step - loss: 0.4062 - accuracy: 0.8410 - val_loss: 0.4670 - val_accuracy: 0.8108\n",
      "Epoch 6/30\n",
      "23/23 [==============================] - 2s 72ms/step - loss: 0.3510 - accuracy: 0.8859 - val_loss: 0.4378 - val_accuracy: 0.8216\n",
      "Epoch 7/30\n",
      "23/23 [==============================] - 2s 73ms/step - loss: 0.3052 - accuracy: 0.9035 - val_loss: 0.4141 - val_accuracy: 0.8270\n",
      "Epoch 8/30\n",
      "23/23 [==============================] - 2s 72ms/step - loss: 0.2673 - accuracy: 0.9171 - val_loss: 0.3937 - val_accuracy: 0.8432\n",
      "Epoch 9/30\n",
      "23/23 [==============================] - 2s 72ms/step - loss: 0.2450 - accuracy: 0.9185 - val_loss: 0.3793 - val_accuracy: 0.8378\n",
      "Epoch 10/30\n",
      "23/23 [==============================] - 2s 72ms/step - loss: 0.2017 - accuracy: 0.9497 - val_loss: 0.3709 - val_accuracy: 0.8378\n"
     ]
    },
    {
     "data": {
      "text/plain": [
       "<tensorflow.python.keras.callbacks.History at 0x259f4e3ed68>"
      ]
     },
     "execution_count": 13,
     "metadata": {},
     "output_type": "execute_result"
    }
   ],
   "source": [
    "from tensorflow.keras.callbacks import EarlyStopping\n",
    "\n",
    "ES = EarlyStopping(patience=2, monitor='val_accuracy')\n",
    "\n",
    "model.fit(trainX, trainY, epochs=30, validation_data=(valX, valY), callbacks=[ES], use_multiprocessing=True)"
   ]
  },
  {
   "cell_type": "markdown",
   "metadata": {},
   "source": [
    "## evaluate model"
   ]
  },
  {
   "cell_type": "code",
   "execution_count": 14,
   "metadata": {},
   "outputs": [
    {
     "name": "stdout",
     "output_type": "stream",
     "text": [
      "6/6 [==============================] - 0s 17ms/step - loss: 0.3709 - accuracy: 0.8378\n"
     ]
    },
    {
     "data": {
      "text/plain": [
       "0.837837815284729"
      ]
     },
     "execution_count": 14,
     "metadata": {},
     "output_type": "execute_result"
    }
   ],
   "source": [
    "loss, acc = model.evaluate(testX, testY)\n",
    "acc"
   ]
  },
  {
   "cell_type": "markdown",
   "metadata": {},
   "source": [
    "## save original model"
   ]
  },
  {
   "cell_type": "code",
   "execution_count": 15,
   "metadata": {},
   "outputs": [],
   "source": [
    "# model.save('model.h5')"
   ]
  },
  {
   "cell_type": "markdown",
   "metadata": {},
   "source": [
    "# Unfreeze layer"
   ]
  },
  {
   "cell_type": "code",
   "execution_count": 16,
   "metadata": {},
   "outputs": [],
   "source": [
    "for layer in model.layers:\n",
    "    if layer.trainable == False:\n",
    "        print(layer.name)\n",
    "        layer.trainable = True"
   ]
  },
  {
   "cell_type": "markdown",
   "metadata": {},
   "source": [
    "# Pruning"
   ]
  },
  {
   "cell_type": "markdown",
   "metadata": {},
   "source": [
    "## set pruning infor"
   ]
  },
  {
   "cell_type": "code",
   "execution_count": 17,
   "metadata": {},
   "outputs": [],
   "source": [
    "import tensorflow_model_optimization as tfmot\n",
    "\n",
    "prune_low_mag = tfmot.sparsity.keras.prune_low_magnitude\n",
    "\n",
    "pruning_params = {\"pruning_schedule\": tfmot.sparsity.keras.PolynomialDecay(initial_sparsity=0.3, final_sparsity=0.9, begin_step=0, end_step=20)}\n",
    "\n",
    "callbacks = [tfmot.sparsity.keras.UpdatePruningStep()]\n",
    "\n",
    "def apply_pruning_to_unsupport_layer(layer):\n",
    "    try:\n",
    "        return prune_low_mag(layer, **pruning_params)\n",
    "    except:\n",
    "        print(layer.name)\n",
    "        return layer\n",
    "\n",
    "pruned_model = tf.keras.models.clone_model(\n",
    "    model,\n",
    "    clone_function=apply_pruning_to_unsupport_layer\n",
    ")\n"
   ]
  },
  {
   "cell_type": "markdown",
   "metadata": {},
   "source": [
    "## compile pruning model"
   ]
  },
  {
   "cell_type": "code",
   "execution_count": 18,
   "metadata": {},
   "outputs": [],
   "source": [
    "\n",
    "opt = Adam(learning_rate=1e-4)\n",
    "pruned_model.compile(optimizer=opt, loss =  CC(from_logits=True), metrics=['accuracy'])"
   ]
  },
  {
   "cell_type": "markdown",
   "metadata": {},
   "source": [
    "## train pruning model"
   ]
  },
  {
   "cell_type": "code",
   "execution_count": 19,
   "metadata": {},
   "outputs": [
    {
     "name": "stdout",
     "output_type": "stream",
     "text": [
      "Epoch 1/4\n",
      "WARNING:tensorflow:From c:\\Users\\NC\\AppData\\Local\\Programs\\Python\\Python37\\lib\\site-packages\\tensorflow\\python\\ops\\array_ops.py:5049: calling gather (from tensorflow.python.ops.array_ops) with validate_indices is deprecated and will be removed in a future version.\n",
      "Instructions for updating:\n",
      "The `validate_indices` argument has no effect. Indices are always validated on CPU and never validated on GPU.\n",
      "23/23 [==============================] - 15s 135ms/step - loss: 0.1804 - accuracy: 0.9524 - val_loss: 0.3600 - val_accuracy: 0.8432\n",
      "Epoch 2/4\n",
      "23/23 [==============================] - 2s 106ms/step - loss: 0.1448 - accuracy: 0.9620 - val_loss: 0.3488 - val_accuracy: 0.8432\n",
      "Epoch 3/4\n",
      "23/23 [==============================] - 2s 105ms/step - loss: 0.1211 - accuracy: 0.9755 - val_loss: 0.3476 - val_accuracy: 0.8432\n",
      "Epoch 4/4\n",
      "23/23 [==============================] - 2s 105ms/step - loss: 0.1032 - accuracy: 0.9851 - val_loss: 0.3439 - val_accuracy: 0.8486\n"
     ]
    },
    {
     "data": {
      "text/plain": [
       "<tensorflow.python.keras.callbacks.History at 0x259f613f080>"
      ]
     },
     "execution_count": 19,
     "metadata": {},
     "output_type": "execute_result"
    }
   ],
   "source": [
    "pruned_model.fit(trainX, trainY, epochs=4, validation_data=(valX, valY), callbacks=callbacks)"
   ]
  },
  {
   "cell_type": "markdown",
   "metadata": {},
   "source": [
    "## evaluate pruned model"
   ]
  },
  {
   "cell_type": "code",
   "execution_count": 20,
   "metadata": {},
   "outputs": [
    {
     "name": "stdout",
     "output_type": "stream",
     "text": [
      "6/6 [==============================] - 0s 19ms/step - loss: 0.3439 - accuracy: 0.8486\n"
     ]
    },
    {
     "data": {
      "text/plain": [
       "0.8486486673355103"
      ]
     },
     "execution_count": 20,
     "metadata": {},
     "output_type": "execute_result"
    }
   ],
   "source": [
    "loss, acc = pruned_model.evaluate(testX, testY)\n",
    "acc"
   ]
  },
  {
   "cell_type": "markdown",
   "metadata": {},
   "source": [
    "## strip prune infor"
   ]
  },
  {
   "cell_type": "code",
   "execution_count": 21,
   "metadata": {},
   "outputs": [],
   "source": [
    "stripped_pruned_model = tfmot.sparsity.keras.strip_pruning(pruned_model)"
   ]
  },
  {
   "cell_type": "markdown",
   "metadata": {},
   "source": [
    "## save pruned model"
   ]
  },
  {
   "cell_type": "code",
   "execution_count": 22,
   "metadata": {},
   "outputs": [],
   "source": [
    "# stripped_pruned_model.save('PRUNED_MODEL/model.h5')"
   ]
  },
  {
   "cell_type": "markdown",
   "metadata": {},
   "source": [
    "# Clustering"
   ]
  },
  {
   "cell_type": "markdown",
   "metadata": {},
   "source": [
    "## set clustering infor"
   ]
  },
  {
   "cell_type": "code",
   "execution_count": 23,
   "metadata": {},
   "outputs": [
    {
     "name": "stdout",
     "output_type": "stream",
     "text": [
      "conv_dw_1\n",
      "conv_dw_2\n",
      "conv_dw_3\n",
      "conv_dw_4\n",
      "conv_dw_5\n",
      "conv_dw_6\n",
      "conv_dw_7\n",
      "conv_dw_8\n",
      "conv_dw_9\n",
      "conv_dw_10\n",
      "conv_dw_11\n",
      "conv_dw_12\n",
      "conv_dw_13\n"
     ]
    }
   ],
   "source": [
    "from tensorflow_model_optimization.python.core.clustering.keras.experimental import (cluster,)\n",
    "\n",
    "cluster_weight = tfmot.clustering.keras.cluster_weights\n",
    "\n",
    "centroidInit = tfmot.clustering.keras.CentroidInitialization\n",
    "\n",
    "cluster_weight = cluster.cluster_weights\n",
    "\n",
    "clustering_params = {\n",
    "    \"number_of_clusters\": 64,\n",
    "    \"cluster_centroids_init\": centroidInit.RANDOM,\n",
    "    \"preserve_sparsity\": True\n",
    "}\n",
    "\n",
    "#### If model has no unsupport layer, use this function\n",
    "# sparsity_clustered_model = cluster_weight(stripped_pruned_model, **clustering_params) \n",
    "\n",
    "#### else use this way!\n",
    "\n",
    "def apply_cluster_to_unsupport_layer(layer):\n",
    "    try:\n",
    "        return cluster_weight(layer, **clustering_params)\n",
    "    except:\n",
    "        print(layer.name)\n",
    "        return layer\n",
    "\n",
    "sparsity_clustered_model = tf.keras.models.clone_model(\n",
    "    stripped_pruned_model,\n",
    "    clone_function=apply_cluster_to_unsupport_layer\n",
    ")"
   ]
  },
  {
   "cell_type": "markdown",
   "metadata": {},
   "source": [
    "## compile clustering model"
   ]
  },
  {
   "cell_type": "code",
   "execution_count": 24,
   "metadata": {},
   "outputs": [],
   "source": [
    "sparsity_clustered_model.compile(optimizer=Adam(learning_rate=1e-4),\n",
    "                        loss =  CC(from_logits=True),\n",
    "                        metrics = ['accuracy'])"
   ]
  },
  {
   "cell_type": "markdown",
   "metadata": {},
   "source": [
    "## training clustering model"
   ]
  },
  {
   "cell_type": "code",
   "execution_count": 25,
   "metadata": {},
   "outputs": [
    {
     "name": "stdout",
     "output_type": "stream",
     "text": [
      "Epoch 1/3\n",
      "23/23 [==============================] - 7s 178ms/step - loss: 0.6427 - accuracy: 0.6318 - val_loss: 0.5990 - val_accuracy: 0.6757\n",
      "Epoch 2/3\n",
      "23/23 [==============================] - 3s 144ms/step - loss: 0.5525 - accuracy: 0.7514 - val_loss: 0.5337 - val_accuracy: 0.7405\n",
      "Epoch 3/3\n",
      "23/23 [==============================] - 3s 150ms/step - loss: 0.4548 - accuracy: 0.7894 - val_loss: 0.4245 - val_accuracy: 0.7892\n"
     ]
    },
    {
     "data": {
      "text/plain": [
       "<tensorflow.python.keras.callbacks.History at 0x25a31d450f0>"
      ]
     },
     "execution_count": 25,
     "metadata": {},
     "output_type": "execute_result"
    }
   ],
   "source": [
    "sparsity_clustered_model.fit(trainX, trainY, epochs=3, validation_data=(valX, valY))"
   ]
  },
  {
   "cell_type": "markdown",
   "metadata": {},
   "source": [
    "## evaluate clustered model"
   ]
  },
  {
   "cell_type": "code",
   "execution_count": 26,
   "metadata": {},
   "outputs": [
    {
     "name": "stdout",
     "output_type": "stream",
     "text": [
      "6/6 [==============================] - 0s 49ms/step - loss: 0.4245 - accuracy: 0.7892\n"
     ]
    },
    {
     "data": {
      "text/plain": [
       "0.7891891598701477"
      ]
     },
     "execution_count": 26,
     "metadata": {},
     "output_type": "execute_result"
    }
   ],
   "source": [
    "loss,acc = sparsity_clustered_model.evaluate(testX, testY)\n",
    "acc"
   ]
  },
  {
   "cell_type": "markdown",
   "metadata": {},
   "source": [
    "## strip cluster infor from model"
   ]
  },
  {
   "cell_type": "code",
   "execution_count": 27,
   "metadata": {},
   "outputs": [],
   "source": [
    "stripped_sparsity_clustered_model = tfmot.clustering.keras.strip_clustering(sparsity_clustered_model)"
   ]
  },
  {
   "cell_type": "markdown",
   "metadata": {},
   "source": [
    "## save clustered model"
   ]
  },
  {
   "cell_type": "code",
   "execution_count": 28,
   "metadata": {},
   "outputs": [],
   "source": [
    "# stripped_sparsity_clustered_model.save('SPARSITY_CLUSTERED/model.h5')"
   ]
  },
  {
   "cell_type": "markdown",
   "metadata": {},
   "source": [
    "# PCQAT"
   ]
  },
  {
   "cell_type": "markdown",
   "metadata": {},
   "source": [
    "## apply PCQAT to pruned & clustered model"
   ]
  },
  {
   "cell_type": "code",
   "execution_count": 29,
   "metadata": {},
   "outputs": [
    {
     "name": "stderr",
     "output_type": "stream",
     "text": [
      "WARNING:root:Input layer does not contain zero weights, so apply CQAT instead.\n"
     ]
    }
   ],
   "source": [
    "QAT_model = tfmot.quantization.keras.quantize_annotate_model(stripped_sparsity_clustered_model)\n",
    "\n",
    "##### Warmning for custom Activaton Layer & ReLU6\n",
    "pcqat = tfmot.quantization.keras.quantize_apply(QAT_model,\n",
    "                                    tfmot.experimental.combine.Default8BitClusterPreserveQuantizeScheme(preserve_sparsity=True))\n"
   ]
  },
  {
   "cell_type": "code",
   "execution_count": 30,
   "metadata": {},
   "outputs": [
    {
     "name": "stdout",
     "output_type": "stream",
     "text": [
      "Model: \"model\"\n",
      "_________________________________________________________________\n",
      "Layer (type)                 Output Shape              Param #   \n",
      "=================================================================\n",
      "input_1 (InputLayer)         [(None, 96, 96, 3)]       0         \n",
      "_________________________________________________________________\n",
      "quantize_layer (QuantizeLaye (None, 96, 96, 3)         3         \n",
      "_________________________________________________________________\n",
      "quant_conv1 (QuantizeWrapper (None, 48, 48, 8)         704       \n",
      "_________________________________________________________________\n",
      "quant_conv1_bn (QuantizeWrap (None, 48, 48, 8)         33        \n",
      "_________________________________________________________________\n",
      "quant_conv1_relu (QuantizeWr (None, 48, 48, 8)         3         \n",
      "_________________________________________________________________\n",
      "quant_conv_dw_1 (QuantizeWra (None, 48, 48, 8)         75        \n",
      "_________________________________________________________________\n",
      "quant_conv_dw_1_bn (Quantize (None, 48, 48, 8)         33        \n",
      "_________________________________________________________________\n",
      "quant_conv_dw_1_relu (Quanti (None, 48, 48, 8)         3         \n",
      "_________________________________________________________________\n",
      "quant_conv_pw_1 (QuantizeWra (None, 48, 48, 16)        440       \n",
      "_________________________________________________________________\n",
      "quant_conv_pw_1_bn (Quantize (None, 48, 48, 16)        65        \n",
      "_________________________________________________________________\n",
      "quant_conv_pw_1_relu (Quanti (None, 48, 48, 16)        3         \n",
      "_________________________________________________________________\n",
      "quant_conv_pad_2 (QuantizeWr (None, 49, 49, 16)        1         \n",
      "_________________________________________________________________\n",
      "quant_conv_dw_2 (QuantizeWra (None, 24, 24, 16)        147       \n",
      "_________________________________________________________________\n",
      "quant_conv_dw_2_bn (Quantize (None, 24, 24, 16)        65        \n",
      "_________________________________________________________________\n",
      "quant_conv_dw_2_relu (Quanti (None, 24, 24, 16)        3         \n",
      "_________________________________________________________________\n",
      "quant_conv_pw_2 (QuantizeWra (None, 24, 24, 32)        1644      \n",
      "_________________________________________________________________\n",
      "quant_conv_pw_2_bn (Quantize (None, 24, 24, 32)        129       \n",
      "_________________________________________________________________\n",
      "quant_conv_pw_2_relu (Quanti (None, 24, 24, 32)        3         \n",
      "_________________________________________________________________\n",
      "quant_conv_dw_3 (QuantizeWra (None, 24, 24, 32)        291       \n",
      "_________________________________________________________________\n",
      "quant_conv_dw_3_bn (Quantize (None, 24, 24, 32)        129       \n",
      "_________________________________________________________________\n",
      "quant_conv_dw_3_relu (Quanti (None, 24, 24, 32)        3         \n",
      "_________________________________________________________________\n",
      "quant_conv_pw_3 (QuantizeWra (None, 24, 24, 32)        3180      \n",
      "_________________________________________________________________\n",
      "quant_conv_pw_3_bn (Quantize (None, 24, 24, 32)        129       \n",
      "_________________________________________________________________\n",
      "quant_conv_pw_3_relu (Quanti (None, 24, 24, 32)        3         \n",
      "_________________________________________________________________\n",
      "quant_conv_pad_4 (QuantizeWr (None, 25, 25, 32)        1         \n",
      "_________________________________________________________________\n",
      "quant_conv_dw_4 (QuantizeWra (None, 12, 12, 32)        291       \n",
      "_________________________________________________________________\n",
      "quant_conv_dw_4_bn (Quantize (None, 12, 12, 32)        129       \n",
      "_________________________________________________________________\n",
      "quant_conv_dw_4_relu (Quanti (None, 12, 12, 32)        3         \n",
      "_________________________________________________________________\n",
      "quant_conv_pw_4 (QuantizeWra (None, 12, 12, 64)        6329      \n",
      "_________________________________________________________________\n",
      "quant_conv_pw_4_bn (Quantize (None, 12, 12, 64)        257       \n",
      "_________________________________________________________________\n",
      "quant_conv_pw_4_relu (Quanti (None, 12, 12, 64)        3         \n",
      "_________________________________________________________________\n",
      "quant_conv_dw_5 (QuantizeWra (None, 12, 12, 64)        579       \n",
      "_________________________________________________________________\n",
      "quant_conv_dw_5_bn (Quantize (None, 12, 12, 64)        257       \n",
      "_________________________________________________________________\n",
      "quant_conv_dw_5_relu (Quanti (None, 12, 12, 64)        3         \n",
      "_________________________________________________________________\n",
      "quant_conv_pw_5 (QuantizeWra (None, 12, 12, 64)        12468     \n",
      "_________________________________________________________________\n",
      "quant_conv_pw_5_bn (Quantize (None, 12, 12, 64)        257       \n",
      "_________________________________________________________________\n",
      "quant_conv_pw_5_relu (Quanti (None, 12, 12, 64)        3         \n",
      "_________________________________________________________________\n",
      "quant_conv_pad_6 (QuantizeWr (None, 13, 13, 64)        1         \n",
      "_________________________________________________________________\n",
      "quant_conv_dw_6 (QuantizeWra (None, 6, 6, 64)          579       \n",
      "_________________________________________________________________\n",
      "quant_conv_dw_6_bn (Quantize (None, 6, 6, 64)          257       \n",
      "_________________________________________________________________\n",
      "quant_conv_dw_6_relu (Quanti (None, 6, 6, 64)          3         \n",
      "_________________________________________________________________\n",
      "quant_conv_pw_6 (QuantizeWra (None, 6, 6, 128)         24885     \n",
      "_________________________________________________________________\n",
      "quant_conv_pw_6_bn (Quantize (None, 6, 6, 128)         513       \n",
      "_________________________________________________________________\n",
      "quant_conv_pw_6_relu (Quanti (None, 6, 6, 128)         3         \n",
      "_________________________________________________________________\n",
      "quant_conv_dw_7 (QuantizeWra (None, 6, 6, 128)         1155      \n",
      "_________________________________________________________________\n",
      "quant_conv_dw_7_bn (Quantize (None, 6, 6, 128)         513       \n",
      "_________________________________________________________________\n",
      "quant_conv_dw_7_relu (Quanti (None, 6, 6, 128)         3         \n",
      "_________________________________________________________________\n",
      "quant_conv_pw_7 (QuantizeWra (None, 6, 6, 128)         49459     \n",
      "_________________________________________________________________\n",
      "quant_conv_pw_7_bn (Quantize (None, 6, 6, 128)         513       \n",
      "_________________________________________________________________\n",
      "quant_conv_pw_7_relu (Quanti (None, 6, 6, 128)         3         \n",
      "_________________________________________________________________\n",
      "quant_conv_dw_8 (QuantizeWra (None, 6, 6, 128)         1155      \n",
      "_________________________________________________________________\n",
      "quant_conv_dw_8_bn (Quantize (None, 6, 6, 128)         513       \n",
      "_________________________________________________________________\n",
      "quant_conv_dw_8_relu (Quanti (None, 6, 6, 128)         3         \n",
      "_________________________________________________________________\n",
      "quant_conv_pw_8 (QuantizeWra (None, 6, 6, 128)         49452     \n",
      "_________________________________________________________________\n",
      "quant_conv_pw_8_bn (Quantize (None, 6, 6, 128)         513       \n",
      "_________________________________________________________________\n",
      "quant_conv_pw_8_relu (Quanti (None, 6, 6, 128)         3         \n",
      "_________________________________________________________________\n",
      "quant_conv_dw_9 (QuantizeWra (None, 6, 6, 128)         1155      \n",
      "_________________________________________________________________\n",
      "quant_conv_dw_9_bn (Quantize (None, 6, 6, 128)         513       \n",
      "_________________________________________________________________\n",
      "quant_conv_dw_9_relu (Quanti (None, 6, 6, 128)         3         \n",
      "_________________________________________________________________\n",
      "quant_conv_pw_9 (QuantizeWra (None, 6, 6, 128)         49468     \n",
      "_________________________________________________________________\n",
      "quant_conv_pw_9_bn (Quantize (None, 6, 6, 128)         513       \n",
      "_________________________________________________________________\n",
      "quant_conv_pw_9_relu (Quanti (None, 6, 6, 128)         3         \n",
      "_________________________________________________________________\n",
      "quant_conv_dw_10 (QuantizeWr (None, 6, 6, 128)         1155      \n",
      "_________________________________________________________________\n",
      "quant_conv_dw_10_bn (Quantiz (None, 6, 6, 128)         513       \n",
      "_________________________________________________________________\n",
      "quant_conv_dw_10_relu (Quant (None, 6, 6, 128)         3         \n",
      "_________________________________________________________________\n",
      "quant_conv_pw_10 (QuantizeWr (None, 6, 6, 128)         49465     \n",
      "_________________________________________________________________\n",
      "quant_conv_pw_10_bn (Quantiz (None, 6, 6, 128)         513       \n",
      "_________________________________________________________________\n",
      "quant_conv_pw_10_relu (Quant (None, 6, 6, 128)         3         \n",
      "_________________________________________________________________\n",
      "quant_conv_dw_11 (QuantizeWr (None, 6, 6, 128)         1155      \n",
      "_________________________________________________________________\n",
      "quant_conv_dw_11_bn (Quantiz (None, 6, 6, 128)         513       \n",
      "_________________________________________________________________\n",
      "quant_conv_dw_11_relu (Quant (None, 6, 6, 128)         3         \n",
      "_________________________________________________________________\n",
      "quant_conv_pw_11 (QuantizeWr (None, 6, 6, 128)         49466     \n",
      "_________________________________________________________________\n",
      "quant_conv_pw_11_bn (Quantiz (None, 6, 6, 128)         513       \n",
      "_________________________________________________________________\n",
      "quant_conv_pw_11_relu (Quant (None, 6, 6, 128)         3         \n",
      "_________________________________________________________________\n",
      "quant_conv_pad_12 (QuantizeW (None, 7, 7, 128)         1         \n",
      "_________________________________________________________________\n",
      "quant_conv_dw_12 (QuantizeWr (None, 3, 3, 128)         1155      \n",
      "_________________________________________________________________\n",
      "quant_conv_dw_12_bn (Quantiz (None, 3, 3, 128)         513       \n",
      "_________________________________________________________________\n",
      "quant_conv_dw_12_relu (Quant (None, 3, 3, 128)         3         \n",
      "_________________________________________________________________\n",
      "quant_conv_pw_12 (QuantizeWr (None, 3, 3, 256)         98871     \n",
      "_________________________________________________________________\n",
      "quant_conv_pw_12_bn (Quantiz (None, 3, 3, 256)         1025      \n",
      "_________________________________________________________________\n",
      "quant_conv_pw_12_relu (Quant (None, 3, 3, 256)         3         \n",
      "_________________________________________________________________\n",
      "quant_conv_dw_13 (QuantizeWr (None, 3, 3, 256)         2307      \n",
      "_________________________________________________________________\n",
      "quant_conv_dw_13_bn (Quantiz (None, 3, 3, 256)         1025      \n",
      "_________________________________________________________________\n",
      "quant_conv_dw_13_relu (Quant (None, 3, 3, 256)         3         \n",
      "_________________________________________________________________\n",
      "quant_conv_pw_13 (QuantizeWr (None, 3, 3, 256)         197165    \n",
      "_________________________________________________________________\n",
      "quant_conv_pw_13_bn (Quantiz (None, 3, 3, 256)         1025      \n",
      "_________________________________________________________________\n",
      "quant_conv_pw_13_relu (Quant (None, 3, 3, 256)         3         \n",
      "_________________________________________________________________\n",
      "quant_dropout (QuantizeWrapp (None, 3, 3, 256)         1         \n",
      "_________________________________________________________________\n",
      "quant_average_pooling2d (Qua (None, 1, 1, 256)         3         \n",
      "_________________________________________________________________\n",
      "quant_conv2d (QuantizeWrappe (None, 1, 1, 2)           1653      \n",
      "_________________________________________________________________\n",
      "quant_flatten (QuantizeWrapp (None, 2)                 1         \n",
      "_________________________________________________________________\n",
      "quant_dense (QuantizeWrapper (None, 2)                 23        \n",
      "=================================================================\n",
      "Total params: 616,935\n",
      "Trainable params: 411,330\n",
      "Non-trainable params: 205,605\n",
      "_________________________________________________________________\n"
     ]
    }
   ],
   "source": [
    "pcqat.summary()"
   ]
  },
  {
   "cell_type": "markdown",
   "metadata": {},
   "source": [
    "## compile PCQAT model"
   ]
  },
  {
   "cell_type": "code",
   "execution_count": 31,
   "metadata": {},
   "outputs": [],
   "source": [
    "pcqat.compile(optimizer=Adam(learning_rate=3e-5),\n",
    "                loss = CC(),\n",
    "                metrics = ['accuracy'])"
   ]
  },
  {
   "cell_type": "markdown",
   "metadata": {},
   "source": [
    "## training PCQAT model"
   ]
  },
  {
   "cell_type": "code",
   "execution_count": 32,
   "metadata": {},
   "outputs": [
    {
     "name": "stdout",
     "output_type": "stream",
     "text": [
      "Epoch 1/2\n",
      "WARNING:tensorflow:Gradients do not exist for variables ['conv1/kernel:0', 'conv_pw_1/kernel:0', 'conv_pw_2/kernel:0', 'conv_pw_3/kernel:0', 'conv_pw_4/kernel:0', 'conv_pw_5/kernel:0', 'conv_pw_6/kernel:0', 'conv_pw_7/kernel:0', 'conv_pw_8/kernel:0', 'conv_pw_9/kernel:0', 'conv_pw_10/kernel:0', 'conv_pw_11/kernel:0', 'conv_pw_12/kernel:0', 'conv_pw_13/kernel:0', 'conv2d/kernel:0', 'dense/kernel:0'] when minimizing the loss.\n"
     ]
    },
    {
     "name": "stderr",
     "output_type": "stream",
     "text": [
      "WARNING:tensorflow:Gradients do not exist for variables ['conv1/kernel:0', 'conv_pw_1/kernel:0', 'conv_pw_2/kernel:0', 'conv_pw_3/kernel:0', 'conv_pw_4/kernel:0', 'conv_pw_5/kernel:0', 'conv_pw_6/kernel:0', 'conv_pw_7/kernel:0', 'conv_pw_8/kernel:0', 'conv_pw_9/kernel:0', 'conv_pw_10/kernel:0', 'conv_pw_11/kernel:0', 'conv_pw_12/kernel:0', 'conv_pw_13/kernel:0', 'conv2d/kernel:0', 'dense/kernel:0'] when minimizing the loss.\n"
     ]
    },
    {
     "name": "stdout",
     "output_type": "stream",
     "text": [
      "WARNING:tensorflow:Gradients do not exist for variables ['conv1/kernel:0', 'conv_pw_1/kernel:0', 'conv_pw_2/kernel:0', 'conv_pw_3/kernel:0', 'conv_pw_4/kernel:0', 'conv_pw_5/kernel:0', 'conv_pw_6/kernel:0', 'conv_pw_7/kernel:0', 'conv_pw_8/kernel:0', 'conv_pw_9/kernel:0', 'conv_pw_10/kernel:0', 'conv_pw_11/kernel:0', 'conv_pw_12/kernel:0', 'conv_pw_13/kernel:0', 'conv2d/kernel:0', 'dense/kernel:0'] when minimizing the loss.\n"
     ]
    },
    {
     "name": "stderr",
     "output_type": "stream",
     "text": [
      "WARNING:tensorflow:Gradients do not exist for variables ['conv1/kernel:0', 'conv_pw_1/kernel:0', 'conv_pw_2/kernel:0', 'conv_pw_3/kernel:0', 'conv_pw_4/kernel:0', 'conv_pw_5/kernel:0', 'conv_pw_6/kernel:0', 'conv_pw_7/kernel:0', 'conv_pw_8/kernel:0', 'conv_pw_9/kernel:0', 'conv_pw_10/kernel:0', 'conv_pw_11/kernel:0', 'conv_pw_12/kernel:0', 'conv_pw_13/kernel:0', 'conv2d/kernel:0', 'dense/kernel:0'] when minimizing the loss.\n"
     ]
    },
    {
     "name": "stdout",
     "output_type": "stream",
     "text": [
      "23/23 [==============================] - 11s 255ms/step - loss: 0.5954 - accuracy: 0.9062 - val_loss: 0.6566 - val_accuracy: 0.7838\n",
      "Epoch 2/2\n",
      "23/23 [==============================] - 5s 209ms/step - loss: 0.5608 - accuracy: 0.9158 - val_loss: 0.7329 - val_accuracy: 0.8054\n"
     ]
    },
    {
     "data": {
      "text/plain": [
       "<tensorflow.python.keras.callbacks.History at 0x25a31c79898>"
      ]
     },
     "execution_count": 32,
     "metadata": {},
     "output_type": "execute_result"
    }
   ],
   "source": [
    "pcqat.fit(trainX, trainY, epochs=2, validation_data=(valX, valY))"
   ]
  },
  {
   "cell_type": "code",
   "execution_count": 33,
   "metadata": {},
   "outputs": [
    {
     "name": "stdout",
     "output_type": "stream",
     "text": [
      "6/6 [==============================] - 0s 41ms/step - loss: 0.7329 - accuracy: 0.8054\n"
     ]
    },
    {
     "data": {
      "text/plain": [
       "0.8054053783416748"
      ]
     },
     "execution_count": 33,
     "metadata": {},
     "output_type": "execute_result"
    }
   ],
   "source": [
    "loss,acc = pcqat.evaluate(testX,testY)\n",
    "acc"
   ]
  },
  {
   "cell_type": "markdown",
   "metadata": {},
   "source": [
    "## save PCQAT model"
   ]
  },
  {
   "cell_type": "code",
   "execution_count": 34,
   "metadata": {},
   "outputs": [],
   "source": [
    "# pcqat.save('PCQAT/model.h5')"
   ]
  },
  {
   "cell_type": "markdown",
   "metadata": {},
   "source": [
    "# Convert PCQAT to TFLITE"
   ]
  },
  {
   "cell_type": "markdown",
   "metadata": {},
   "source": [
    "## Convert to INT8-TFLITE (include input layer)"
   ]
  },
  {
   "cell_type": "code",
   "execution_count": 35,
   "metadata": {},
   "outputs": [],
   "source": [
    "gen = representive_dataset(trainX, dtype=tf.int8)"
   ]
  },
  {
   "cell_type": "code",
   "execution_count": 36,
   "metadata": {},
   "outputs": [
    {
     "name": "stderr",
     "output_type": "stream",
     "text": [
      "WARNING:absl:Found untraced functions such as conv1_layer_call_and_return_conditional_losses, conv1_layer_call_fn, conv1_relu_layer_call_and_return_conditional_losses, conv1_relu_layer_call_fn, conv_dw_1_relu_layer_call_and_return_conditional_losses while saving (showing 5 of 225). These functions will not be directly callable after loading.\n"
     ]
    },
    {
     "name": "stdout",
     "output_type": "stream",
     "text": [
      "INFO:tensorflow:Assets written to: C:\\Users\\NC\\AppData\\Local\\Temp\\tmp4ljk2b8x\\assets\n"
     ]
    },
    {
     "name": "stderr",
     "output_type": "stream",
     "text": [
      "INFO:tensorflow:Assets written to: C:\\Users\\NC\\AppData\\Local\\Temp\\tmp4ljk2b8x\\assets\n",
      "WARNING:absl:For model inputs containing unsupported operations which cannot be quantized, the `inference_input_type` attribute will default to the original type.\n"
     ]
    }
   ],
   "source": [
    "converter = tf.lite.TFLiteConverter.from_keras_model(pcqat)\n",
    "converter.optimizations = [tf.lite.Optimize.OPTIMIZE_FOR_LATENCY]\n",
    "converter.target_spec.supported_ops = [tf.lite.OpsSet.TFLITE_BUILTINS_INT8]\n",
    "\n",
    "converter.inference_input_type = tf.int8\n",
    "converter.inference_output_type = tf.int8\n",
    "converter.representative_dataset = gen\n",
    "tflite_model = converter.convert()"
   ]
  },
  {
   "cell_type": "markdown",
   "metadata": {},
   "source": [
    "## save TFLITE model"
   ]
  },
  {
   "cell_type": "code",
   "execution_count": 37,
   "metadata": {},
   "outputs": [],
   "source": [
    "with open('model_pcqat.tflite',\"wb\") as f:\n",
    "    f.write(tflite_model)"
   ]
  }
 ],
 "metadata": {
  "kernelspec": {
   "display_name": "Python 3.7.3 64-bit",
   "language": "python",
   "name": "python3"
  },
  "language_info": {
   "codemirror_mode": {
    "name": "ipython",
    "version": 3
   },
   "file_extension": ".py",
   "mimetype": "text/x-python",
   "name": "python",
   "nbconvert_exporter": "python",
   "pygments_lexer": "ipython3",
   "version": "3.7.3"
  },
  "orig_nbformat": 4,
  "vscode": {
   "interpreter": {
    "hash": "19716ce3344d21a2b8752e8af875d2cad19db08e19c4a982817470f56c296c08"
   }
  }
 },
 "nbformat": 4,
 "nbformat_minor": 2
}
